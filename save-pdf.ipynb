{
 "cells": [
  {
   "cell_type": "code",
   "execution_count": 1,
   "metadata": {},
   "outputs": [],
   "source": [
    "import PyPDF2\n",
    "\n",
    "def save_pdf_pages(source_file, output_file, start_page, end_page):\n",
    "    # Create a PDF reader object\n",
    "    with open(source_file, 'rb') as file:\n",
    "        reader = PyPDF2.PdfReader(file)\n",
    "        \n",
    "        # Create a PDF writer object for the output file\n",
    "        writer = PyPDF2.PdfWriter()\n",
    "\n",
    "        # Add pages from start_page to end_page\n",
    "        for page_number in range(start_page - 1, end_page):\n",
    "            # Add the page to the writer object\n",
    "            writer.add_page(reader.pages[page_number])\n",
    "\n",
    "        # Write the pages to the output file\n",
    "        with open(output_file, 'wb') as output_pdf:\n",
    "            writer.write(output_pdf)\n",
    "\n",
    "# File paths and page numbers\n",
    "source_pdf_path = 'data/getting-real/getting-real-full.pdf'\n",
    "\n",
    "# Call the function to save pages\n",
    "save_pdf_pages(source_pdf_path, output_pdf_path, start_page, end_page)\n"
   ]
  },
  {
   "cell_type": "code",
   "execution_count": 2,
   "metadata": {},
   "outputs": [],
   "source": [
    "output_pdf_path = 'data/getting-real/getting-real-01-introduction.pdf'\n",
    "start_page = 8\n",
    "end_page = 14\n",
    "save_pdf_pages(source_pdf_path, output_pdf_path, start_page, end_page)"
   ]
  },
  {
   "cell_type": "code",
   "execution_count": 4,
   "metadata": {},
   "outputs": [],
   "source": [
    "output_pdf_path = 'data/getting-real/getting-real-02-starting-line.pdf'\n",
    "start_page = 15\n",
    "end_page = 24\n",
    "save_pdf_pages(source_pdf_path, output_pdf_path, start_page, end_page)"
   ]
  },
  {
   "cell_type": "code",
   "execution_count": 5,
   "metadata": {},
   "outputs": [],
   "source": [
    "output_pdf_path = 'data/getting-real/getting-real-03-stay-lean.pdf'\n",
    "start_page = 25\n",
    "end_page = 34\n",
    "save_pdf_pages(source_pdf_path, output_pdf_path, start_page, end_page)"
   ]
  },
  {
   "cell_type": "code",
   "execution_count": 8,
   "metadata": {},
   "outputs": [],
   "source": [
    "output_pdf_path = 'data/getting-real/getting-real-04-priorities.pdf'\n",
    "start_page = 35\n",
    "end_page = 42\n",
    "save_pdf_pages(source_pdf_path, output_pdf_path, start_page, end_page)"
   ]
  },
  {
   "cell_type": "code",
   "execution_count": 9,
   "metadata": {},
   "outputs": [],
   "source": [
    "output_pdf_path = 'data/getting-real/getting-real-05-feature-selection.pdf'\n",
    "start_page = 43\n",
    "end_page = 50\n",
    "save_pdf_pages(source_pdf_path, output_pdf_path, start_page, end_page)\n"
   ]
  },
  {
   "cell_type": "code",
   "execution_count": 10,
   "metadata": {},
   "outputs": [],
   "source": [
    "output_pdf_path = 'data/getting-real/getting-real-06-process.pdf'\n",
    "start_page = 51\n",
    "end_page = 64\n",
    "save_pdf_pages(source_pdf_path, output_pdf_path, start_page, end_page)"
   ]
  },
  {
   "cell_type": "code",
   "execution_count": 11,
   "metadata": {},
   "outputs": [],
   "source": [
    "output_pdf_path = 'data/getting-real/getting-real-07-organization.pdf'\n",
    "start_page = 65\n",
    "end_page = 70\n",
    "save_pdf_pages(source_pdf_path, output_pdf_path, start_page, end_page)"
   ]
  },
  {
   "cell_type": "code",
   "execution_count": 12,
   "metadata": {},
   "outputs": [],
   "source": [
    "output_pdf_path = 'data/getting-real/getting-real-08-staffing.pdf'\n",
    "start_page = 71\n",
    "end_page = 77\n",
    "save_pdf_pages(source_pdf_path, output_pdf_path, start_page, end_page)"
   ]
  },
  {
   "cell_type": "code",
   "execution_count": 13,
   "metadata": {},
   "outputs": [],
   "source": [
    "output_pdf_path = 'data/getting-real/getting-real-09-interface-design.pdf'\n",
    "start_page = 78\n",
    "end_page = 87\n",
    "save_pdf_pages(source_pdf_path, output_pdf_path, start_page, end_page)"
   ]
  },
  {
   "cell_type": "code",
   "execution_count": 14,
   "metadata": {},
   "outputs": [],
   "source": [
    "output_pdf_path = 'data/getting-real/getting-real-10-code.pdf'\n",
    "start_page = 88\n",
    "end_page = 94\n",
    "save_pdf_pages(source_pdf_path, output_pdf_path, start_page, end_page)\n"
   ]
  },
  {
   "cell_type": "code",
   "execution_count": 15,
   "metadata": {},
   "outputs": [],
   "source": [
    "output_pdf_path = 'data/getting-real/getting-real-11-words.pdf'\n",
    "start_page = 95\n",
    "end_page = 101\n",
    "save_pdf_pages(source_pdf_path, output_pdf_path, start_page, end_page)\n"
   ]
  },
  {
   "cell_type": "code",
   "execution_count": 16,
   "metadata": {},
   "outputs": [],
   "source": [
    "output_pdf_path = 'data/getting-real/getting-real-12-pricing-signup.pdf'\n",
    "start_page = 102\n",
    "end_page = 105\n",
    "save_pdf_pages(source_pdf_path, output_pdf_path, start_page, end_page)"
   ]
  },
  {
   "cell_type": "code",
   "execution_count": 17,
   "metadata": {},
   "outputs": [],
   "source": [
    "output_pdf_path = 'data/getting-real/getting-real-13-promotion.pdf'\n",
    "start_page = 106\n",
    "end_page = 116\n",
    "save_pdf_pages(source_pdf_path, output_pdf_path, start_page, end_page)"
   ]
  },
  {
   "cell_type": "code",
   "execution_count": 18,
   "metadata": {},
   "outputs": [],
   "source": [
    "output_pdf_path = 'data/getting-real/getting-real-14-support.pdf'\n",
    "start_page = 117\n",
    "end_page = 124\n",
    "save_pdf_pages(source_pdf_path, output_pdf_path, start_page, end_page)"
   ]
  },
  {
   "cell_type": "code",
   "execution_count": 19,
   "metadata": {},
   "outputs": [],
   "source": [
    "output_pdf_path = 'data/getting-real/getting-real-15-post-launch.pdf'\n",
    "start_page = 125\n",
    "end_page = 135\n",
    "save_pdf_pages(source_pdf_path, output_pdf_path, start_page, end_page)"
   ]
  },
  {
   "cell_type": "code",
   "execution_count": null,
   "metadata": {},
   "outputs": [],
   "source": []
  },
  {
   "cell_type": "code",
   "execution_count": null,
   "metadata": {},
   "outputs": [],
   "source": []
  },
  {
   "cell_type": "code",
   "execution_count": null,
   "metadata": {},
   "outputs": [],
   "source": []
  },
  {
   "cell_type": "code",
   "execution_count": 6,
   "metadata": {},
   "outputs": [
    {
     "name": "stdout",
     "output_type": "stream",
     "text": [
      "Page 1:\n",
      "1: What is Getting Real\n",
      "Want to build a successful web app? Then it’s time to Get Real. Getting Real is a smaller, faster,\n",
      "better way to build software.\n",
      "Getting Real is about skipping all the stuff that represents real (charts, graphs, boxes, arrows,\n",
      "schematics, wireframes, etc.) and actually building the real thing.\n",
      "Getting real is less. Less mass, less software, less features, less paperwork, less of everything\n",
      "that’s not essential (and most of what you think is essential actually isn’t).\n",
      "Getting Real is staying small and being agile.\n",
      "Getting Real starts with the interface, the real screens that people are going to use. It begins\n",
      "with what the customer actually experiences and builds backwards from there. This lets you\n",
      "get the interface right before you get the software wrong.\n",
      "Getting Real is about iterations and lowering the cost of change. Getting Real is all about\n",
      "launching, tweaking, and constantly improving which makes it a perfect approach for web-\n",
      "based software.\n",
      "Getting Real delivers just what customers need and eliminates anything they don’t.\n",
      "The benefits of Getting Real\n",
      "Getting Real delivers better results because it forces you to deal with the actual problems you’re\n",
      "trying to solve instead of your ideas about those problems. It forces you to deal with reality.\n",
      "Getting Real foregoes functional specs and other transitory documentation in favor of building\n",
      "real screens. A functional spec is make-believe, an illusion of agreement, while an actual web\n",
      "page is reality. That’s what your customers are going to see and use. That’s what matters. Getting\n",
      "Real gets you there faster. And that means you’re making software decisions based on the real\n",
      "thing instead of abstract notions.\n",
      "Finally, Getting Real is an approach ideally suited to web-based software. The old school model\n",
      "of shipping software in a box and then waiting a year or two to deliver an update is fading away.\n",
      "Unlike installed software, web apps can constantly evolve on a day-to-day basis. Getting Real\n",
      "leverages this advantage for all its worth.\n",
      "\n",
      "Page 2:\n",
      "How To Write Vigorous Software\n",
      "Vigorous writing is concise. A sentence should contain no unnecessary words, a paragraph no\n",
      "unnecessary sentences, for the same reason that a drawing should have no unnecessary lines\n",
      "and a machine no unnecessary parts. This requires not that the writer make all sentences short\n",
      "or avoid all detail and treat subjects only in outline, but that every word tell.\n",
      "—From “The Elements of Style” by William Strunk Jr.\n",
      "No more bloat\n",
      "The old way: a lengthy, bureaucratic, we’re-doing-this-to-coverour-asses process. The typical\n",
      "result: bloated, forgettable software dripping with mediocrity. Blech.\n",
      "Getting Real gets rid of…\n",
      "Timelines that take months or even years\n",
      "Pie-in-the-sky functional specs\n",
      "Scalability debates\n",
      "Interminable staff meetings\n",
      "The “need” to hire dozens of employees\n",
      "Meaningless version numbers\n",
      "Pristine roadmaps that predict the perfect future\n",
      "Endless preference options\n",
      "Outsourced support\n",
      "Unrealistic user testing\n",
      "Useless paperwork\n",
      "Top-down hierarchy\n",
      "You don’t need tons of money or a huge team or a lengthy development cycle to build great\n",
      "software. Those things are the ingredients for slow, murky, changeless applications. Getting real\n",
      "takes the opposite approach.\n",
      "In this book we’ll show you…\n",
      "The importance of having a philosophy\n",
      "Why staying small is a good thing\n",
      "How to build less\n",
      "How to get from idea to reality quickly\n",
      "\n"
     ]
    }
   ],
   "source": [
    "from pypdf import PdfReader\n",
    "\n",
    "def print_first_two_pages(pdf_path):\n",
    "    # Open the PDF file\n",
    "    reader = PdfReader(pdf_path)\n",
    "    \n",
    "    # Get the text from the first two pages\n",
    "    page_texts = []\n",
    "    for page in reader.pages[:2]:  # Access the first two pages\n",
    "        page_text = page.extract_text()\n",
    "        page_texts.append(page_text)\n",
    "    \n",
    "    return page_texts\n",
    "\n",
    "# Path to your PDF file\n",
    "pdf_file_path = 'data/getting-real/getting-real-01-introduction.pdf'\n",
    "\n",
    "# Call the function and print the results\n",
    "first_two_pages_text = print_first_two_pages(pdf_file_path)\n",
    "for i, page_text in enumerate(first_two_pages_text, 1):\n",
    "    print(f\"Page {i}:\\n{page_text}\\n\")\n",
    "\n"
   ]
  },
  {
   "cell_type": "code",
   "execution_count": null,
   "metadata": {},
   "outputs": [],
   "source": []
  }
 ],
 "metadata": {
  "kernelspec": {
   "display_name": "venv",
   "language": "python",
   "name": "python3"
  },
  "language_info": {
   "codemirror_mode": {
    "name": "ipython",
    "version": 3
   },
   "file_extension": ".py",
   "mimetype": "text/x-python",
   "name": "python",
   "nbconvert_exporter": "python",
   "pygments_lexer": "ipython3",
   "version": "3.10.6"
  }
 },
 "nbformat": 4,
 "nbformat_minor": 2
}
